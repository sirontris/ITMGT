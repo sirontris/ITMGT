{
 "cells": [
  {
   "cell_type": "code",
   "execution_count": 9,
   "id": "3680c709",
   "metadata": {
    "scrolled": false
   },
   "outputs": [
    {
     "data": {
      "text/html": [
       "<div>\n",
       "<style scoped>\n",
       "    .dataframe tbody tr th:only-of-type {\n",
       "        vertical-align: middle;\n",
       "    }\n",
       "\n",
       "    .dataframe tbody tr th {\n",
       "        vertical-align: top;\n",
       "    }\n",
       "\n",
       "    .dataframe thead th {\n",
       "        text-align: right;\n",
       "    }\n",
       "</style>\n",
       "<table border=\"1\" class=\"dataframe\">\n",
       "  <thead>\n",
       "    <tr style=\"text-align: right;\">\n",
       "      <th></th>\n",
       "      <th>invoice_no</th>\n",
       "      <th>customer_id</th>\n",
       "      <th>category</th>\n",
       "      <th>quantity</th>\n",
       "      <th>price</th>\n",
       "      <th>payment_method</th>\n",
       "      <th>invoice_date</th>\n",
       "      <th>shopping_mall</th>\n",
       "    </tr>\n",
       "  </thead>\n",
       "  <tbody>\n",
       "    <tr>\n",
       "      <th>0</th>\n",
       "      <td>I138884</td>\n",
       "      <td>229</td>\n",
       "      <td>Clothing</td>\n",
       "      <td>5</td>\n",
       "      <td>1500.40</td>\n",
       "      <td>Credit Card</td>\n",
       "      <td>5/8/2022</td>\n",
       "      <td>Kanyon</td>\n",
       "    </tr>\n",
       "    <tr>\n",
       "      <th>1</th>\n",
       "      <td>I317333</td>\n",
       "      <td>3433</td>\n",
       "      <td>Shoes</td>\n",
       "      <td>3</td>\n",
       "      <td>1800.51</td>\n",
       "      <td>Debit Card</td>\n",
       "      <td>12/12/2021</td>\n",
       "      <td>Forum Istanbul</td>\n",
       "    </tr>\n",
       "    <tr>\n",
       "      <th>2</th>\n",
       "      <td>I127801</td>\n",
       "      <td>644</td>\n",
       "      <td>Clothing</td>\n",
       "      <td>1</td>\n",
       "      <td>300.08</td>\n",
       "      <td>Cash</td>\n",
       "      <td>9/11/2021</td>\n",
       "      <td>Metrocity</td>\n",
       "    </tr>\n",
       "    <tr>\n",
       "      <th>3</th>\n",
       "      <td>I173702</td>\n",
       "      <td>4900</td>\n",
       "      <td>Shoes</td>\n",
       "      <td>5</td>\n",
       "      <td>3000.85</td>\n",
       "      <td>Credit Card</td>\n",
       "      <td>16/05/2021</td>\n",
       "      <td>Metropol AVM</td>\n",
       "    </tr>\n",
       "    <tr>\n",
       "      <th>4</th>\n",
       "      <td>I337046</td>\n",
       "      <td>1089</td>\n",
       "      <td>Books</td>\n",
       "      <td>4</td>\n",
       "      <td>60.60</td>\n",
       "      <td>Cash</td>\n",
       "      <td>24/10/2021</td>\n",
       "      <td>Kanyon</td>\n",
       "    </tr>\n",
       "    <tr>\n",
       "      <th>...</th>\n",
       "      <td>...</td>\n",
       "      <td>...</td>\n",
       "      <td>...</td>\n",
       "      <td>...</td>\n",
       "      <td>...</td>\n",
       "      <td>...</td>\n",
       "      <td>...</td>\n",
       "      <td>...</td>\n",
       "    </tr>\n",
       "    <tr>\n",
       "      <th>99452</th>\n",
       "      <td>I219422</td>\n",
       "      <td>2344</td>\n",
       "      <td>Souvenir</td>\n",
       "      <td>5</td>\n",
       "      <td>58.65</td>\n",
       "      <td>Credit Card</td>\n",
       "      <td>21/09/2022</td>\n",
       "      <td>Kanyon</td>\n",
       "    </tr>\n",
       "    <tr>\n",
       "      <th>99453</th>\n",
       "      <td>I325143</td>\n",
       "      <td>172</td>\n",
       "      <td>Food &amp; Beverage</td>\n",
       "      <td>2</td>\n",
       "      <td>10.46</td>\n",
       "      <td>Cash</td>\n",
       "      <td>22/09/2021</td>\n",
       "      <td>Forum Istanbul</td>\n",
       "    </tr>\n",
       "    <tr>\n",
       "      <th>99454</th>\n",
       "      <td>I824010</td>\n",
       "      <td>425</td>\n",
       "      <td>Food &amp; Beverage</td>\n",
       "      <td>2</td>\n",
       "      <td>10.46</td>\n",
       "      <td>Debit Card</td>\n",
       "      <td>28/03/2021</td>\n",
       "      <td>Metrocity</td>\n",
       "    </tr>\n",
       "    <tr>\n",
       "      <th>99455</th>\n",
       "      <td>I702964</td>\n",
       "      <td>577</td>\n",
       "      <td>Technology</td>\n",
       "      <td>4</td>\n",
       "      <td>4200.00</td>\n",
       "      <td>Cash</td>\n",
       "      <td>16/03/2021</td>\n",
       "      <td>Istinye Park</td>\n",
       "    </tr>\n",
       "    <tr>\n",
       "      <th>99456</th>\n",
       "      <td>I232867</td>\n",
       "      <td>30</td>\n",
       "      <td>Souvenir</td>\n",
       "      <td>3</td>\n",
       "      <td>35.19</td>\n",
       "      <td>Credit Card</td>\n",
       "      <td>15/10/2022</td>\n",
       "      <td>Mall of Istanbul</td>\n",
       "    </tr>\n",
       "  </tbody>\n",
       "</table>\n",
       "<p>99457 rows × 8 columns</p>\n",
       "</div>"
      ],
      "text/plain": [
       "      invoice_no  customer_id         category  quantity    price  \\\n",
       "0        I138884          229         Clothing         5  1500.40   \n",
       "1        I317333         3433            Shoes         3  1800.51   \n",
       "2        I127801          644         Clothing         1   300.08   \n",
       "3        I173702         4900            Shoes         5  3000.85   \n",
       "4        I337046         1089            Books         4    60.60   \n",
       "...          ...          ...              ...       ...      ...   \n",
       "99452    I219422         2344         Souvenir         5    58.65   \n",
       "99453    I325143          172  Food & Beverage         2    10.46   \n",
       "99454    I824010          425  Food & Beverage         2    10.46   \n",
       "99455    I702964          577       Technology         4  4200.00   \n",
       "99456    I232867           30         Souvenir         3    35.19   \n",
       "\n",
       "      payment_method invoice_date     shopping_mall  \n",
       "0        Credit Card     5/8/2022            Kanyon  \n",
       "1         Debit Card   12/12/2021    Forum Istanbul  \n",
       "2               Cash    9/11/2021         Metrocity  \n",
       "3        Credit Card   16/05/2021      Metropol AVM  \n",
       "4               Cash   24/10/2021            Kanyon  \n",
       "...              ...          ...               ...  \n",
       "99452    Credit Card   21/09/2022            Kanyon  \n",
       "99453           Cash   22/09/2021    Forum Istanbul  \n",
       "99454     Debit Card   28/03/2021         Metrocity  \n",
       "99455           Cash   16/03/2021      Istinye Park  \n",
       "99456    Credit Card   15/10/2022  Mall of Istanbul  \n",
       "\n",
       "[99457 rows x 8 columns]"
      ]
     },
     "execution_count": 9,
     "metadata": {},
     "output_type": "execute_result"
    }
   ],
   "source": [
    "import pandas as pd\n",
    "df_csv = pd.read_csv(\"fct_invoice.csv\")\n",
    "df_csv"
   ]
  },
  {
   "cell_type": "markdown",
   "id": "f682787a",
   "metadata": {},
   "source": [
    "# Easy"
   ]
  },
  {
   "cell_type": "code",
   "execution_count": 10,
   "id": "157653eb",
   "metadata": {},
   "outputs": [
    {
     "name": "stdout",
     "output_type": "stream",
     "text": [
      "5191\n"
     ]
    }
   ],
   "source": [
    "unique_customers = df_csv[\"customer_id\"].unique()\n",
    "print(len(unique_customers))"
   ]
  },
  {
   "cell_type": "code",
   "execution_count": 11,
   "id": "3520619f",
   "metadata": {},
   "outputs": [
    {
     "name": "stdout",
     "output_type": "stream",
     "text": [
      "['Clothing' 'Shoes' 'Books' 'Cosmetics' 'Food & Beverage' 'Toys'\n",
      " 'Technology' 'Souvenir']\n",
      "8\n"
     ]
    }
   ],
   "source": [
    "categories=df_csv[\"category\"].unique()\n",
    "print(categories)\n",
    "\n",
    "unique_categories=len(df_csv[\"category\"].unique())\n",
    "print(unique_categories)"
   ]
  },
  {
   "cell_type": "code",
   "execution_count": 12,
   "id": "06b9786a",
   "metadata": {},
   "outputs": [
    {
     "name": "stdout",
     "output_type": "stream",
     "text": [
      "Cash\n",
      "44447\n"
     ]
    }
   ],
   "source": [
    "frequent_payment = df_csv[\"payment_method\"].value_counts()\n",
    "popular = frequent_payment.idxmax()\n",
    "print(popular)\n",
    "\n",
    "frequency = max(frequent_payment)\n",
    "print(frequency)"
   ]
  },
  {
   "cell_type": "markdown",
   "id": "16fca484",
   "metadata": {},
   "source": [
    "# Medium"
   ]
  },
  {
   "cell_type": "code",
   "execution_count": 13,
   "id": "b682b5a0",
   "metadata": {
    "scrolled": true
   },
   "outputs": [
    {
     "name": "stdout",
     "output_type": "stream",
     "text": [
      "category\n",
      "Clothing      1.139968e+08\n",
      "Shoes         6.655345e+07\n",
      "Technology    5.786235e+07\n",
      "Name: total_sales, dtype: float64\n"
     ]
    }
   ],
   "source": [
    "df_csv[\"total_sales\"] = df_csv[\"quantity\"] * df_csv[\"price\"]\n",
    "category_sales = df_csv.groupby(\"category\")[\"total_sales\"].sum()\n",
    "ranked_sales = category_sales.nlargest(3)\n",
    "print(ranked_sales)"
   ]
  },
  {
   "cell_type": "code",
   "execution_count": 16,
   "id": "b76fe09a",
   "metadata": {},
   "outputs": [
    {
     "data": {
      "text/plain": [
       "82039768.14999999"
      ]
     },
     "execution_count": 16,
     "metadata": {},
     "output_type": "execute_result"
    }
   ],
   "source": [
    "json = pd.read_json(\"dim_customer.json\")\n",
    "json.columns\n",
    "\n",
    "json.rename(columns = {\"id\": \"customer_id\"}, inplace = True)\n",
    "merged_df = pd.merge(json, df_csv, on = \"customer_id\")\n",
    "merged_df\n",
    "\n",
    "merged_df.columns\n",
    "\n",
    "filtered_age_data = merged_df[merged_df[\"age\"] > 45]\n",
    "filtered_age_data[\"total_sales\"].sum()"
   ]
  },
  {
   "cell_type": "code",
   "execution_count": 18,
   "id": "64c88391",
   "metadata": {
    "scrolled": true
   },
   "outputs": [
    {
     "data": {
      "image/png": "[encoded data removed]",
      "text/plain": [
       "<Figure size 1000x500 with 1 Axes>"
      ]
     },
     "metadata": {},
     "output_type": "display_data"
    },
    {
     "name": "stdout",
     "output_type": "stream",
     "text": [
      "As seen in the graph, the graphs for the years 2021 and 2022 are similar to one another indicating a close relation to their sales. However, the sales for 2023 experienced a significant drop which could be caused by a change in the lifestyle of customers or shopping trends.\n"
     ]
    }
   ],
   "source": [
    "import matplotlib.pyplot as plt\n",
    "\n",
    "merged_df[\"invoice_date\"] = pd.to_datetime(merged_df[\"invoice_date\"])\n",
    "merged_df[\"month\"] = merged_df[\"invoice_date\"].dt.month\n",
    "merged_df[\"year\"] = merged_df[\"invoice_date\"].dt.year\n",
    "\n",
    "plt.figure(figsize=(10, 5))\n",
    "\n",
    "unique_years = merged_df[\"year\"].unique()\n",
    "sorted_years = sorted(unique_years)\n",
    "\n",
    "for year in sorted_years:\n",
    "    year_data = merged_df[merged_df[\"year\"] == year]\n",
    "    monthly_sales = year_data.groupby(\"month\")[\"total_sales\"].sum()\n",
    "    plt.plot(monthly_sales.index, monthly_sales, marker='o', label=str(year))\n",
    "\n",
    "plt.xlabel(\"Month\")\n",
    "plt.ylabel(\"Total Sales\")\n",
    "plt.title(\"Total Sales per Month by Year\")\n",
    "plt.legend()\n",
    "plt.grid(True)\n",
    "plt.show()\n",
    "\n",
    "print(\"As seen in the graph, the graphs for the years 2021 and 2022 are similar to one another indicating a close relation to their sales. However, the sales for 2023 experienced a significant drop which could be caused by a change in the lifestyle of customers or shopping trends.\")"
   ]
  },
  {
   "cell_type": "markdown",
   "id": "3b37dacc",
   "metadata": {},
   "source": [
    "# Hard"
   ]
  },
  {
   "cell_type": "code",
   "execution_count": 29,
   "id": "6b77608a",
   "metadata": {},
   "outputs": [
    {
     "data": {
      "text/html": [
       "<div>\n",
       "<style scoped>\n",
       "    .dataframe tbody tr th:only-of-type {\n",
       "        vertical-align: middle;\n",
       "    }\n",
       "\n",
       "    .dataframe tbody tr th {\n",
       "        vertical-align: top;\n",
       "    }\n",
       "\n",
       "    .dataframe thead th {\n",
       "        text-align: right;\n",
       "    }\n",
       "</style>\n",
       "<table border=\"1\" class=\"dataframe\">\n",
       "  <thead>\n",
       "    <tr style=\"text-align: right;\">\n",
       "      <th>category</th>\n",
       "      <th>Books</th>\n",
       "      <th>Clothing</th>\n",
       "      <th>Cosmetics</th>\n",
       "      <th>Food &amp; Beverage</th>\n",
       "      <th>Shoes</th>\n",
       "      <th>Souvenir</th>\n",
       "      <th>Technology</th>\n",
       "      <th>Toys</th>\n",
       "    </tr>\n",
       "    <tr>\n",
       "      <th>age_range</th>\n",
       "      <th></th>\n",
       "      <th></th>\n",
       "      <th></th>\n",
       "      <th></th>\n",
       "      <th></th>\n",
       "      <th></th>\n",
       "      <th></th>\n",
       "      <th></th>\n",
       "    </tr>\n",
       "  </thead>\n",
       "  <tbody>\n",
       "    <tr>\n",
       "      <th>0-9</th>\n",
       "      <td>0.00</td>\n",
       "      <td>0.00</td>\n",
       "      <td>0.00</td>\n",
       "      <td>0.00</td>\n",
       "      <td>0.00</td>\n",
       "      <td>0.00</td>\n",
       "      <td>0.0</td>\n",
       "      <td>0.00</td>\n",
       "    </tr>\n",
       "    <tr>\n",
       "      <th>10-19</th>\n",
       "      <td>12801.75</td>\n",
       "      <td>1927413.84</td>\n",
       "      <td>109619.36</td>\n",
       "      <td>13582.31</td>\n",
       "      <td>993281.35</td>\n",
       "      <td>12375.15</td>\n",
       "      <td>1129800.0</td>\n",
       "      <td>60426.24</td>\n",
       "    </tr>\n",
       "    <tr>\n",
       "      <th>20-29</th>\n",
       "      <td>79461.75</td>\n",
       "      <td>10250732.80</td>\n",
       "      <td>605915.32</td>\n",
       "      <td>73491.96</td>\n",
       "      <td>5924878.24</td>\n",
       "      <td>54943.32</td>\n",
       "      <td>5261550.0</td>\n",
       "      <td>385100.80</td>\n",
       "    </tr>\n",
       "    <tr>\n",
       "      <th>30-39</th>\n",
       "      <td>84143.10</td>\n",
       "      <td>11354126.96</td>\n",
       "      <td>723544.70</td>\n",
       "      <td>87246.86</td>\n",
       "      <td>7200839.66</td>\n",
       "      <td>64092.72</td>\n",
       "      <td>6159300.0</td>\n",
       "      <td>420582.40</td>\n",
       "    </tr>\n",
       "    <tr>\n",
       "      <th>40-49</th>\n",
       "      <td>87203.40</td>\n",
       "      <td>11215189.92</td>\n",
       "      <td>665034.96</td>\n",
       "      <td>89553.29</td>\n",
       "      <td>7025590.02</td>\n",
       "      <td>66391.80</td>\n",
       "      <td>5954550.0</td>\n",
       "      <td>390906.88</td>\n",
       "    </tr>\n",
       "    <tr>\n",
       "      <th>50-59</th>\n",
       "      <td>74962.20</td>\n",
       "      <td>10321851.76</td>\n",
       "      <td>587780.96</td>\n",
       "      <td>72425.04</td>\n",
       "      <td>5852857.84</td>\n",
       "      <td>54943.32</td>\n",
       "      <td>4435200.0</td>\n",
       "      <td>345067.52</td>\n",
       "    </tr>\n",
       "    <tr>\n",
       "      <th>60-69</th>\n",
       "      <td>80476.80</td>\n",
       "      <td>10660642.08</td>\n",
       "      <td>649990.76</td>\n",
       "      <td>80976.09</td>\n",
       "      <td>5978893.54</td>\n",
       "      <td>55025.43</td>\n",
       "      <td>5471550.0</td>\n",
       "      <td>363955.20</td>\n",
       "    </tr>\n",
       "    <tr>\n",
       "      <th>70-79</th>\n",
       "      <td>54827.85</td>\n",
       "      <td>7769371.28</td>\n",
       "      <td>419082.62</td>\n",
       "      <td>55050.98</td>\n",
       "      <td>4480269.05</td>\n",
       "      <td>38673.81</td>\n",
       "      <td>3638250.0</td>\n",
       "      <td>273244.16</td>\n",
       "    </tr>\n",
       "    <tr>\n",
       "      <th>80-89</th>\n",
       "      <td>26664.00</td>\n",
       "      <td>4493698.00</td>\n",
       "      <td>254531.60</td>\n",
       "      <td>31332.93</td>\n",
       "      <td>2628744.60</td>\n",
       "      <td>23718.06</td>\n",
       "      <td>1946700.0</td>\n",
       "      <td>153932.80</td>\n",
       "    </tr>\n",
       "  </tbody>\n",
       "</table>\n",
       "</div>"
      ],
      "text/plain": [
       "category      Books     Clothing  Cosmetics  Food & Beverage       Shoes  \\\n",
       "age_range                                                                  \n",
       "0-9            0.00         0.00       0.00             0.00        0.00   \n",
       "10-19      12801.75   1927413.84  109619.36         13582.31   993281.35   \n",
       "20-29      79461.75  10250732.80  605915.32         73491.96  5924878.24   \n",
       "30-39      84143.10  11354126.96  723544.70         87246.86  7200839.66   \n",
       "40-49      87203.40  11215189.92  665034.96         89553.29  7025590.02   \n",
       "50-59      74962.20  10321851.76  587780.96         72425.04  5852857.84   \n",
       "60-69      80476.80  10660642.08  649990.76         80976.09  5978893.54   \n",
       "70-79      54827.85   7769371.28  419082.62         55050.98  4480269.05   \n",
       "80-89      26664.00   4493698.00  254531.60         31332.93  2628744.60   \n",
       "\n",
       "category   Souvenir  Technology       Toys  \n",
       "age_range                                   \n",
       "0-9            0.00         0.0       0.00  \n",
       "10-19      12375.15   1129800.0   60426.24  \n",
       "20-29      54943.32   5261550.0  385100.80  \n",
       "30-39      64092.72   6159300.0  420582.40  \n",
       "40-49      66391.80   5954550.0  390906.88  \n",
       "50-59      54943.32   4435200.0  345067.52  \n",
       "60-69      55025.43   5471550.0  363955.20  \n",
       "70-79      38673.81   3638250.0  273244.16  \n",
       "80-89      23718.06   1946700.0  153932.80  "
      ]
     },
     "execution_count": 29,
     "metadata": {},
     "output_type": "execute_result"
    }
   ],
   "source": [
    "bins = [0,10,20,30,40,50,60,70,80,90]\n",
    "\n",
    "merged_df[\"age_range\"] = pd.cut(merged_df[\"age\"], bins = bins, right = False, labels =[\"0-9\",\"10-19\",\"20-29\",\"30-39\",\"40-49\",\"50-59\",\"60-69\",\"70-79\",\"80-89\"])\n",
    "pivot_table = merged_df.pivot_table(values=\"total_sales\", index=\"age_range\", columns='category', aggfunc='sum')\n",
    "pivot_table"
   ]
  }
 ],
 "metadata": {
  "kernelspec": {
   "display_name": "Python 3 (ipykernel)",
   "language": "python",
   "name": "python3"
  },
  "language_info": {
   "codemirror_mode": {
    "name": "ipython",
    "version": 3
   },
   "file_extension": ".py",
   "mimetype": "text/x-python",
   "name": "python",
   "nbconvert_exporter": "python",
   "pygments_lexer": "ipython3",
   "version": "3.10.9"
  }
 },
 "nbformat": 4,
 "nbformat_minor": 5
}
